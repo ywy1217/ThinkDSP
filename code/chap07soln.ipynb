{
 "cells": [
  {
   "cell_type": "markdown",
   "metadata": {},
   "source": [
    "## ThinkDSP\n",
    "\n",
    "This notebook contains solutions to exercises in Chapter 7: Discrete Fourier Transform\n",
    "\n",
    "Copyright 2015 Allen Downey\n",
    "\n",
    "License: [Creative Commons Attribution 4.0 International](http://creativecommons.org/licenses/by/4.0/)"
   ]
  },
  {
   "cell_type": "code",
   "execution_count": 3,
   "metadata": {},
   "outputs": [],
   "source": [
    "import numpy as np\n",
    "PI2 = 2 * np.pi\n",
    "import matplotlib.pyplot as plt"
   ]
  },
  {
   "cell_type": "code",
   "execution_count": 92,
   "metadata": {},
   "outputs": [
    {
     "name": "stdout",
     "output_type": "stream",
     "text": [
      "False\n"
     ]
    },
    {
     "data": {
      "image/png": "[encoded data removed]",
      "text/plain": [
       "<Figure size 432x288 with 1 Axes>"
      ]
     },
     "metadata": {
      "needs_background": "light"
     },
     "output_type": "display_data"
    }
   ],
   "source": [
    "# Wuyang exercise 07/10/2022\n",
    "my_data = np.sin(PI2 * np.linspace(0,100, num=10)) + np.sin(PI2 * 2 * np.linspace(0,100, num=10))\n",
    "def approx_equal(a, b, tol=1e-10):\n",
    "    return np.sum(np.abs(a-b)) < tol\n",
    "\n",
    "def my_fun(xn, n, k, N):\n",
    "    return xn * np.exp( - PI2 * 1j / N * n * k)\n",
    "\n",
    "def my_fft(dataIn):\n",
    "    \"\"\"\n",
    "    This function does not work well if the sample size is not an int power of 2\n",
    "    \"\"\"\n",
    "    # Step 1: Split\n",
    "    N = len(dataIn)\n",
    "    if N == 1:\n",
    "        return dataIn\n",
    "    \n",
    "    data_e = dataIn[0::2]\n",
    "    N_e = len(data_e)\n",
    "    data_o = dataIn[1::2]\n",
    "    N_o = len(data_o)\n",
    "    # print(N_e > N_o)\n",
    "    \n",
    "    # Step 2: Recursive calculate the FFT of splits\n",
    "    dft_e = my_fft(data_e)\n",
    "    dft_o = my_fft(data_o)\n",
    "    \n",
    "    # Step 3: Apply Danielson-Lanczox Lemma\n",
    "    dft_n_1 = dft_e[:N_o] + np.array( [np.exp(-PI2*k/N*1j ) * dft_o[k] for k in range(N_o)] )\n",
    "    dft_n_2 = dft_e[:N_o] - np.array( [np.exp(-PI2*k/N*1j ) * dft_o[k] for k in range(N_o)] ) \n",
    "    if N_o < N_e:\n",
    "        # print('N:',N, ', (N-1)/2:', (N-1)/2)\n",
    "        mid = np.sum( [ my_fun(x,n, (N-1)/2, N) for x,n in zip(dataIn, range(N))])\n",
    "        # print('mid', mid)\n",
    "        results = list(dft_n_1) + [mid] + list(dft_n_2)\n",
    "    else:\n",
    "        results = list(dft_n_1) + list(dft_n_2)\n",
    "    \n",
    "    # print('result length:', len(results))\n",
    "    return results\n",
    "\n",
    "plt.plot(my_data)\n",
    "# print(np.abs(my_fft(my_data)-np.fft.fft(my_data)))\n",
    "\n",
    "print(approx_equal(my_fft(my_data), np.fft.fft(my_data)))\n",
    "\n",
    "def my_fft2(dataIn):\n",
    "    # by definition\n",
    "    N = len(dataIn)\n",
    "    return np.array( [ np.sum( [my_fun(x, n, k, N) for x, n in zip(dataIn, range(N))] ) for k in range(N) ])\n",
    "\n",
    "# print(approx_equal(my_fft2(my_data), np.fft.fft(my_data)))\n",
    "# print(approx_equal(my_fft2(my_data), np.array(my_fft(my_data))))"
   ]
  },
  {
   "cell_type": "code",
   "execution_count": 74,
   "metadata": {},
   "outputs": [
    {
     "data": {
      "text/plain": [
       "[2, 3, 4, 100, 2, 5]"
      ]
     },
     "execution_count": 74,
     "metadata": {},
     "output_type": "execute_result"
    }
   ],
   "source": [
    "a = [2,3,4,2,5 ]\n",
    "a[:3] +[100] + a[3:]"
   ]
  },
  {
   "cell_type": "markdown",
   "metadata": {},
   "source": [
    "## Exercise 1\n",
    "\n",
    "In this chapter, I showed how we can express the DFT and inverse DFT\n",
    "as matrix multiplications.  These operations take time proportional to\n",
    "$N^2$, where $N$ is the length of the wave array.  That is fast enough\n",
    "for many applications, but there is a faster\n",
    "algorithm, the Fast Fourier Transform (FFT), which takes time\n",
    "proportional to $N \\log N$.\n",
    "\n",
    "The key to the FFT is the Danielson-Lanczos lemma:\n",
    "\n",
    "$DFT(y)[n] = DFT(e)[n] + \\exp(-2 \\pi i n / N) DFT(o)[n]$\n",
    "\n",
    "Where $ DFT(y)[n]$ is the $n$th element of the DFT of $y$; $e$ is the even elements of $y$, and $o$ is the odd elements of $y$.\n",
    "\n",
    "This lemma suggests a recursive algorithm for the DFT:\n",
    "\n",
    "1. Given a wave array, $y$, split it into its even elements, $e$, and its odd elements, $o$.\n",
    "\n",
    "2. Compute the DFT of $e$ and $o$ by making recursive calls.\n",
    "\n",
    "3. Compute $DFT(y)$ for each value of $n$ using the Danielson-Lanczos lemma.\n",
    "\n",
    "For the base case of this recursion, you could wait until the length\n",
    "of $y$ is 1.  In that case, $DFT(y) = y$.  Or if the length of $y$\n",
    "is sufficiently small, you could compute its DFT by matrix multiplication,\n",
    "possibly using a precomputed matrix.\n",
    "\n",
    "Hint: I suggest you implement this algorithm incrementally by starting\n",
    "with a version that is not truly recursive.  In Step 2, instead of\n",
    "making a recursive call, use `dft` or `np.fft.fft`.  Get Step 3 working,\n",
    "and confirm that the results are consistent with the other\n",
    "implementations.  Then add a base case and confirm that it works.\n",
    "Finally, replace Step 2 with recursive calls.\n",
    "\n",
    "One more hint: Remember that the DFT is periodic; you might find `np.tile` useful.\n",
    "\n",
    "You can read more about the FFT at https://en.wikipedia.org/wiki/Fast_Fourier_transform."
   ]
  },
  {
   "cell_type": "markdown",
   "metadata": {},
   "source": [
    "As the test case, I'll start with a small real signal and compute its FFT:"
   ]
  },
  {
   "cell_type": "code",
   "execution_count": 89,
   "metadata": {
    "collapsed": false,
    "jupyter": {
     "outputs_hidden": false
    }
   },
   "outputs": [
    {
     "name": "stdout",
     "output_type": "stream",
     "text": [
      "[ 2.19824159e-13+0.00000000e+00j  1.57638094e+00-4.85160168e+00j\n",
      "  2.02753214e+00-2.79065859e+00j -1.72676468e+00+1.25456797e+00j\n",
      " -1.27561348e+00+4.14471944e-01j -1.20306987e+00-1.11022302e-16j\n",
      " -1.27561348e+00-4.14471944e-01j -1.72676468e+00-1.25456797e+00j\n",
      "  2.02753214e+00+2.79065859e+00j  1.57638094e+00+4.85160168e+00j]\n"
     ]
    }
   ],
   "source": [
    "ys = [-0.5, 0.1, 0.7, -0.1]\n",
    "ys = my_data\n",
    "hs = np.fft.fft(ys)\n",
    "print(hs)"
   ]
  },
  {
   "cell_type": "markdown",
   "metadata": {},
   "source": [
    "Here's my implementation of DFT from the book:"
   ]
  },
  {
   "cell_type": "code",
   "execution_count": 90,
   "metadata": {
    "collapsed": false,
    "jupyter": {
     "outputs_hidden": false
    }
   },
   "outputs": [],
   "source": [
    "def dft(ys):\n",
    "    N = len(ys)\n",
    "    ts = np.arange(N) / N\n",
    "    freqs = np.arange(N)\n",
    "    args = np.outer(ts, freqs)\n",
    "    M = np.exp(1j * PI2 * args)\n",
    "    amps = M.conj().transpose().dot(ys)\n",
    "    return amps"
   ]
  },
  {
   "cell_type": "markdown",
   "metadata": {},
   "source": [
    "We can confirm that this implementation gets the same result."
   ]
  },
  {
   "cell_type": "code",
   "execution_count": 103,
   "metadata": {
    "collapsed": false,
    "jupyter": {
     "outputs_hidden": false
    }
   },
   "outputs": [
    {
     "name": "stdout",
     "output_type": "stream",
     "text": [
      "17.528526809615162\n",
      "2.079250093336111e-14\n"
     ]
    }
   ],
   "source": [
    "hs2 = dft(ys)\n",
    "np.sum(np.abs(hs - hs2))\n",
    "\n",
    "hs3 = my_fft(ys)\n",
    "hs4 = my_fft2(ys)\n",
    "print(np.sum(np.abs(hs - hs3)))\n",
    "print(np.sum(np.abs(hs - hs4)))"
   ]
  },
  {
   "cell_type": "markdown",
   "metadata": {},
   "source": [
    "As a step toward making a recursive FFT, I'll start with a version that splits the input array and uses np.fft.fft to compute the FFT of the halves."
   ]
  },
  {
   "cell_type": "code",
   "execution_count": 98,
   "metadata": {
    "collapsed": false,
    "jupyter": {
     "outputs_hidden": false
    }
   },
   "outputs": [],
   "source": [
    "def fft_norec(ys):\n",
    "    N = len(ys)\n",
    "    He = np.fft.fft(ys[::2])\n",
    "    print(len(He))\n",
    "    Ho = np.fft.fft(ys[1::2])\n",
    "    print(len(Ho))\n",
    "    \n",
    "    ns = np.arange(N)\n",
    "    W = np.exp(-1j * PI2 * ns / N)\n",
    "    \n",
    "    return np.tile(He, 2) + W * np.tile(Ho, 2)"
   ]
  },
  {
   "cell_type": "markdown",
   "metadata": {},
   "source": [
    "And we get the same results:"
   ]
  },
  {
   "cell_type": "code",
   "execution_count": 104,
   "metadata": {
    "collapsed": false,
    "jupyter": {
     "outputs_hidden": false
    }
   },
   "outputs": [
    {
     "name": "stdout",
     "output_type": "stream",
     "text": [
      "5\n",
      "5\n"
     ]
    },
    {
     "data": {
      "text/plain": [
       "4.842208363562238e-15"
      ]
     },
     "execution_count": 104,
     "metadata": {},
     "output_type": "execute_result"
    }
   ],
   "source": [
    "hs3 = fft_norec(ys)\n",
    "np.sum(np.abs(hs - hs3))"
   ]
  },
  {
   "cell_type": "markdown",
   "metadata": {},
   "source": [
    "Finally, we can replace `np.fft.fft` with recursive calls, and add a base case:"
   ]
  },
  {
   "cell_type": "code",
   "execution_count": 101,
   "metadata": {
    "collapsed": false,
    "jupyter": {
     "outputs_hidden": false
    }
   },
   "outputs": [],
   "source": [
    "def fft(ys):\n",
    "    N = len(ys)\n",
    "    if N == 1:\n",
    "        return ys\n",
    "    \n",
    "    He = fft(ys[::2])\n",
    "    Ho = fft(ys[1::2])\n",
    "    \n",
    "    ns = np.arange(N)\n",
    "    W = np.exp(-1j * PI2 * ns / N)\n",
    "    \n",
    "    return np.tile(He, 2) + W * np.tile(Ho, 2)"
   ]
  },
  {
   "cell_type": "markdown",
   "metadata": {},
   "source": [
    "And we get the same results:"
   ]
  },
  {
   "cell_type": "code",
   "execution_count": 102,
   "metadata": {
    "collapsed": false,
    "jupyter": {
     "outputs_hidden": false
    }
   },
   "outputs": [
    {
     "ename": "ValueError",
     "evalue": "operands could not be broadcast together with shapes (3,) (2,) ",
     "output_type": "error",
     "traceback": [
      "\u001b[1;31m---------------------------------------------------------------------------\u001b[0m",
      "\u001b[1;31mValueError\u001b[0m                                Traceback (most recent call last)",
      "Input \u001b[1;32mIn [102]\u001b[0m, in \u001b[0;36m<module>\u001b[1;34m\u001b[0m\n\u001b[1;32m----> 1\u001b[0m hs4 \u001b[38;5;241m=\u001b[39m \u001b[43mfft\u001b[49m\u001b[43m(\u001b[49m\u001b[43mys\u001b[49m\u001b[43m)\u001b[49m\n\u001b[0;32m      2\u001b[0m np\u001b[38;5;241m.\u001b[39msum(np\u001b[38;5;241m.\u001b[39mabs(hs \u001b[38;5;241m-\u001b[39m hs4))\n",
      "Input \u001b[1;32mIn [101]\u001b[0m, in \u001b[0;36mfft\u001b[1;34m(ys)\u001b[0m\n\u001b[0;32m      3\u001b[0m \u001b[38;5;28;01mif\u001b[39;00m N \u001b[38;5;241m==\u001b[39m \u001b[38;5;241m1\u001b[39m:\n\u001b[0;32m      4\u001b[0m     \u001b[38;5;28;01mreturn\u001b[39;00m ys\n\u001b[1;32m----> 6\u001b[0m He \u001b[38;5;241m=\u001b[39m \u001b[43mfft\u001b[49m\u001b[43m(\u001b[49m\u001b[43mys\u001b[49m\u001b[43m[\u001b[49m\u001b[43m:\u001b[49m\u001b[43m:\u001b[49m\u001b[38;5;241;43m2\u001b[39;49m\u001b[43m]\u001b[49m\u001b[43m)\u001b[49m\n\u001b[0;32m      7\u001b[0m Ho \u001b[38;5;241m=\u001b[39m fft(ys[\u001b[38;5;241m1\u001b[39m::\u001b[38;5;241m2\u001b[39m])\n\u001b[0;32m      9\u001b[0m ns \u001b[38;5;241m=\u001b[39m np\u001b[38;5;241m.\u001b[39marange(N)\n",
      "Input \u001b[1;32mIn [101]\u001b[0m, in \u001b[0;36mfft\u001b[1;34m(ys)\u001b[0m\n\u001b[0;32m      3\u001b[0m \u001b[38;5;28;01mif\u001b[39;00m N \u001b[38;5;241m==\u001b[39m \u001b[38;5;241m1\u001b[39m:\n\u001b[0;32m      4\u001b[0m     \u001b[38;5;28;01mreturn\u001b[39;00m ys\n\u001b[1;32m----> 6\u001b[0m He \u001b[38;5;241m=\u001b[39m \u001b[43mfft\u001b[49m\u001b[43m(\u001b[49m\u001b[43mys\u001b[49m\u001b[43m[\u001b[49m\u001b[43m:\u001b[49m\u001b[43m:\u001b[49m\u001b[38;5;241;43m2\u001b[39;49m\u001b[43m]\u001b[49m\u001b[43m)\u001b[49m\n\u001b[0;32m      7\u001b[0m Ho \u001b[38;5;241m=\u001b[39m fft(ys[\u001b[38;5;241m1\u001b[39m::\u001b[38;5;241m2\u001b[39m])\n\u001b[0;32m      9\u001b[0m ns \u001b[38;5;241m=\u001b[39m np\u001b[38;5;241m.\u001b[39marange(N)\n",
      "Input \u001b[1;32mIn [101]\u001b[0m, in \u001b[0;36mfft\u001b[1;34m(ys)\u001b[0m\n\u001b[0;32m      9\u001b[0m ns \u001b[38;5;241m=\u001b[39m np\u001b[38;5;241m.\u001b[39marange(N)\n\u001b[0;32m     10\u001b[0m W \u001b[38;5;241m=\u001b[39m np\u001b[38;5;241m.\u001b[39mexp(\u001b[38;5;241m-\u001b[39m\u001b[38;5;241m1\u001b[39mj \u001b[38;5;241m*\u001b[39m PI2 \u001b[38;5;241m*\u001b[39m ns \u001b[38;5;241m/\u001b[39m N)\n\u001b[1;32m---> 12\u001b[0m \u001b[38;5;28;01mreturn\u001b[39;00m np\u001b[38;5;241m.\u001b[39mtile(He, \u001b[38;5;241m2\u001b[39m) \u001b[38;5;241m+\u001b[39m \u001b[43mW\u001b[49m\u001b[43m \u001b[49m\u001b[38;5;241;43m*\u001b[39;49m\u001b[43m \u001b[49m\u001b[43mnp\u001b[49m\u001b[38;5;241;43m.\u001b[39;49m\u001b[43mtile\u001b[49m\u001b[43m(\u001b[49m\u001b[43mHo\u001b[49m\u001b[43m,\u001b[49m\u001b[43m \u001b[49m\u001b[38;5;241;43m2\u001b[39;49m\u001b[43m)\u001b[49m\n",
      "\u001b[1;31mValueError\u001b[0m: operands could not be broadcast together with shapes (3,) (2,) "
     ]
    }
   ],
   "source": [
    "hs4 = fft(ys)\n",
    "np.sum(np.abs(hs - hs4))"
   ]
  },
  {
   "cell_type": "markdown",
   "metadata": {},
   "source": [
    "This implementation of FFT takes time proportional to $n \\log n$.  It also takes space proportional to $n \\log n$, and it wastes some time making and copying arrays.  It can be improved to run \"in place\"; in that case, it requires no additional space, and spends less time on overhead."
   ]
  },
  {
   "cell_type": "code",
   "execution_count": null,
   "metadata": {
    "collapsed": true,
    "jupyter": {
     "outputs_hidden": true
    }
   },
   "outputs": [],
   "source": []
  }
 ],
 "metadata": {
  "kernelspec": {
   "display_name": "Python 3 (ipykernel)",
   "language": "python",
   "name": "python3"
  },
  "language_info": {
   "codemirror_mode": {
    "name": "ipython",
    "version": 3
   },
   "file_extension": ".py",
   "mimetype": "text/x-python",
   "name": "python",
   "nbconvert_exporter": "python",
   "pygments_lexer": "ipython3",
   "version": "3.9.0"
  }
 },
 "nbformat": 4,
 "nbformat_minor": 4
}
